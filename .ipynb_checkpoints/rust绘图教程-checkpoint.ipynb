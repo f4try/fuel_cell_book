{
 "cells": [
  {
   "cell_type": "markdown",
   "metadata": {},
   "source": [
    "# Jupyter绘图仪教程"
   ]
  },
  {
   "cell_type": "markdown",
   "metadata": {},
   "source": [
    "这是[`Plotters`](https://github.com/38/plotters)图形库的交互式教程。如果您正在查看静态HTML版本并想尝试交互式版本。请按照以下步骤操作："
   ]
  },
  {
   "cell_type": "markdown",
   "metadata": {},
   "source": [
    "#### 对于Ubuntu / Debian用户\n",
    "```bash\n",
    "# Install Jupyter notebook \n",
    "sudo apt install libzmq3-dev jupyter-notebook\n",
    "cargo install evcxr_jupyter\n",
    "evcxr_jupyter --install\n",
    "# Get the notebook\n",
    "git clone https://github.com/38/plotters-doc-data\n",
    "cd plotteres-doc-data\n",
    "jupyter notebook\n",
    "```\n",
    "#### 对于OSX用户\n",
    "```bash\n",
    "# Install Jupyter notebook \n",
    "brew install zeromq pkg-config\n",
    "cargo install evcxr_jupyter\n",
    "evcxr_jupyter --install\n",
    "# Get the notebook\n",
    "git clone https://github.com/38/plotters-doc-data\n",
    "cd plotteres-doc-data\n",
    "jupyter notebook\n",
    "```"
   ]
  },
  {
   "cell_type": "markdown",
   "metadata": {},
   "source": [
    "您也可以从https://raw.githubusercontent.com/38/plotters-doc-data/master/evcxr-jupyter-integration.ipynb, 下载最新的笔记本，因此不必克隆整个数据仓库。"
   ]
  },
  {
   "cell_type": "markdown",
   "metadata": {},
   "source": [
    "## 入门"
   ]
  },
  {
   "cell_type": "markdown",
   "metadata": {},
   "source": [
    "为了使用`Plotters`中`jupyter-evcxr`，您需要同时Jupyter和evcxr安装。检查https://github.com/google/evcxr 以获取说明。  \n",
    "要将Plotter与配合使用jupyter-evcxr，您需要使用以下代码将其导入："
   ]
  },
  {
   "cell_type": "code",
   "execution_count": null,
   "metadata": {},
   "outputs": [],
   "source": [
    "// :dep plotters = { git = \"https://github.com/38/plotters\", default_features = false, features = [\"evcxr\"] }"
   ]
  },
  {
   "cell_type": "markdown",
   "metadata": {},
   "source": [
    "因为evcxr仅使用SVG图像，所以我们不需要其他类型的后端。所以我们应该把\n",
    "\n",
    "`default_features = false, features = [\"evcxr\"]`\n",
    "\n",
    "使编译更快。由于evcxr在单元之间共享所有工件，因此在我们第一次plotters编译之后，它应该会更快。"
   ]
  },
  {
   "cell_type": "markdown",
   "metadata": {},
   "source": [
    "## Plotters evcxr集成概述"
   ]
  },
  {
   "cell_type": "markdown",
   "metadata": {},
   "source": [
    "要使用Plotters，最方便的方法是导入prelude模块中定义的所有内容。它将导入evcxr_figure功能以进行evcxr集成。\n",
    "注意：目前evcxr不适用于nightly rust，因此请确保您使用的是stable rust"
   ]
  },
  {
   "cell_type": "code",
   "execution_count": 4,
   "metadata": {},
   "outputs": [
    {
     "data": {
      "text/html": [
       "<div style=\"\"><svg width=\"300\" height=\"200\" viewBox=\"0 0 300 200\" xmlns=\"http://www.w3.org/2000/svg\">\n",
       "<rect x=\"0\" y=\"0\" width=\"299\" height=\"199\" opacity=\"1\" fill=\"#0000FF\" stroke=\"none\"/>\n",
       "</svg>\n",
       "</div>"
      ]
     },
     "execution_count": 4,
     "metadata": {},
     "output_type": "execute_result"
    }
   ],
   "source": [
    ":dep plotters = {version = \"^0.3.0\",default_features = false,features = [\"evcxr\",\"all_series\"]}\n",
    "extern crate plotters;\n",
    "use plotters::prelude::*;\n",
    "evcxr_figure((300,200),|root|{\n",
    "    root.fill(&BLUE)?;\n",
    "    Ok(())\n",
    "})"
   ]
  },
  {
   "cell_type": "markdown",
   "metadata": {},
   "source": [
    "## Hello World"
   ]
  },
  {
   "cell_type": "code",
   "execution_count": 17,
   "metadata": {},
   "outputs": [
    {
     "data": {
      "text/html": [
       "<div style=\"\"><svg width=\"320\" height=\"50\" viewBox=\"0 0 320 50\" xmlns=\"http://www.w3.org/2000/svg\">\n",
       "<rect x=\"0\" y=\"0\" width=\"319\" height=\"49\" opacity=\"1\" fill=\"#00FF00\" stroke=\"none\"/>\n",
       "<text x=\"100\" y=\"15\" dy=\"0.76em\" text-anchor=\"start\" font-family=\"Arial\" font-size=\"24.193548387096776\" opacity=\"1\" fill=\"#000000\">\n",
       "hello world\n",
       "</text>\n",
       "</svg>\n",
       "</div>"
      ]
     },
     "execution_count": 17,
     "metadata": {},
     "output_type": "execute_result"
    }
   ],
   "source": [
    "evcxr_figure((320,50),|root|{\n",
    "    root.fill(&GREEN)?;\n",
    "    root.draw(&Text::new(\"hello world\",(100,15),(\"Arial\",30).into_font()))?;\n",
    "    Ok(())\n",
    "})"
   ]
  },
  {
   "cell_type": "markdown",
   "metadata": {},
   "source": [
    "## 子画图区"
   ]
  },
  {
   "cell_type": "markdown",
   "metadata": {},
   "source": [
    "非常重要的功能之一是Plotters允许在单个图形中绘制多个图表。这是通过具有子绘图区域来完成的。根绘图区域可以拆分为较小的绘图区域，并且您始终可以进行更多细粒度的拆分。"
   ]
  },
  {
   "cell_type": "code",
   "execution_count": null,
   "metadata": {},
   "outputs": [],
   "source": [
    "use plotters::coord::Shift;\n",
    "pub fn sierpinski_carpet(\n",
    "    depth:u32,\n",
    "    drawing_area:&DrawingArea<SVGBackend,Shift>)\n",
    "-> Result<(),Box<dyn std::error::Error>> {\n",
    "    if depth > 0 {\n",
    "        let sub_areas = drawing_area.split_evenly((3,3));\n",
    "        for (idx,sub_area) in (0..).zip(sub_areas.iter()){\n",
    "            if idx == 4{\n",
    "                sub_area.fill(&WHITE)?;\n",
    "            }else{\n",
    "                sierpinski_carpet(depth - 1, sub_area)?;\n",
    "            }\n",
    "        }\n",
    "    }\n",
    "    Ok(())\n",
    "}\n",
    "evcxr_figure((4800,4800),|root|{\n",
    "    root.fill(&BLACK)?;\n",
    "    sierpinski_carpet(7,&root)\n",
    "}).style(\"width:600px\")"
   ]
  },
  {
   "cell_type": "markdown",
   "metadata": {},
   "source": [
    "## 图上下文\n",
    "Plotters设计用于绘制图表，绘图等。此示例演示如何使用Plotters特定于图表的API绘制图表，包括标签，轴，网格等。要在drawin区域上绘制图表，您需要创建图表上下文并进行一些配置。"
   ]
  },
  {
   "cell_type": "markdown",
   "metadata": {},
   "source": [
    "# 添加通用图表组件\n",
    "我们还可以为我们Plotters绘制常用的组件，例如网格，轴，图例。在本节中，我们演示如何做到这一点。\n",
    "\n",
    "以下代码显示了如何向图表添加网格。"
   ]
  },
  {
   "cell_type": "markdown",
   "metadata": {},
   "source": [
    "然后，我们可以将轴添加到图表中。"
   ]
  },
  {
   "cell_type": "markdown",
   "metadata": {},
   "source": [
    "除此之外，我们可以将标签文本放置到轴上。"
   ]
  },
  {
   "cell_type": "markdown",
   "metadata": {},
   "source": [
    "然后禁用X轴的网格线"
   ]
  },
  {
   "cell_type": "markdown",
   "metadata": {},
   "source": [
    "要在单个图形中创建多个图表，您可以拆分绘图区域并创建多个图表上下文。"
   ]
  },
  {
   "cell_type": "markdown",
   "metadata": {},
   "source": [
    "## 系列\n",
    "与大多数绘图库不同，Plotters它实际上并未定义任何类型的图表。所有图表都抽象为系列的概念。这样，您可以将histgoram系列和折线图系列放入同一图表上下文中。实际上，该系列被定义为元素的迭代器。  \n",
    "\n",
    "这为Plotters绘制图表提供了极大的灵活性。您可以实现自己的系列类型，并使用坐标平移和图表元素。  \n",
    "\n",
    "为了方便起见，预定义系列的类型很少：  \n",
    "\n",
    "* 线系列\n",
    "* 直方图\n",
    "* 点系列"
   ]
  },
  {
   "cell_type": "markdown",
   "metadata": {},
   "source": [
    "### 散点图\n",
    "首先，让我们生成一些随机数。"
   ]
  },
  {
   "cell_type": "markdown",
   "metadata": {},
   "source": [
    "用绘制散点图很简单Plotters。唯一需要的是，提供一系列元素的迭代器。以下示例显示了如何制作2D正态分布图。红色矩形是两个西格玛区域，红色叉是平均值。"
   ]
  },
  {
   "cell_type": "markdown",
   "metadata": {},
   "source": [
    "## 直方图\n",
    "我们也可以有直方图。对于直方图，我们可以使用预定义的直方图序列结构轻松构建直方图。以下代码演示了如何为的X和Y值创建直方图random_points。"
   ]
  },
  {
   "cell_type": "markdown",
   "metadata": {},
   "source": [
    "## 直方图和散点图的组合"
   ]
  },
  {
   "cell_type": "code",
   "execution_count": null,
   "metadata": {},
   "outputs": [],
   "source": []
  }
 ],
 "metadata": {
  "kernelspec": {
   "display_name": "Rust",
   "language": "rust",
   "name": "rust"
  },
  "language_info": {
   "codemirror_mode": "rust",
   "file_extension": ".rs",
   "mimetype": "text/rust",
   "name": "Rust",
   "pygment_lexer": "rust",
   "version": ""
  }
 },
 "nbformat": 4,
 "nbformat_minor": 4
}
