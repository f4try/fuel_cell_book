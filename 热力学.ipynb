{
 "cells": [
  {
   "cell_type": "markdown",
   "metadata": {},
   "source": [
    "# 焓\n",
    "* 焓H，内能U,压力P,体积V  \n",
    "$H = U+PV$  \n",
    "* 混合物  \n",
    "$u=(1-x)u_f+xu_g=u_f+x(u_g-u_f)$  \n",
    "$h=(1-x)h_f+xh_g=h_f+x(h_g-h_f)$  \n",
    "* 计算水的焓值\n",
    "水处于1psi(145psi=1MPa)压力和100℃的状态\n",
    "+ 计算焓值\n",
    "查表得比体积 $\\nu=1.696m^3/kg$,比内能$u=2506.7kJ/kg$，1psi=6894.76N/m^3那么:  \n",
    "$H=U+PV$  \n",
    "$H = 2506.7kJ/kg+6894.76N/m^2\\times1.696m^3/kg\\times\\frac{1kJ}{10^3N\\dot m}$  \n",
    "编程求解："
   ]
  },
  {
   "cell_type": "code",
   "execution_count": 13,
   "metadata": {},
   "outputs": [
    {
     "name": "stdout",
     "output_type": "stream",
     "text": [
      "6896.551724137931\n",
      "H=2518.3965517241377kJ/kg\n"
     ]
    }
   ],
   "source": [
    "let V = 1.696;\n",
    "let U=2506.7;\n",
    "let P = 1.0e6/145.;\n",
    "println!(\"{}\",P);\n",
    "let H = U + P*V/1000.;\n",
    "println!(\"H={}kJ/kg\",H);"
   ]
  },
  {
   "cell_type": "markdown",
   "metadata": {},
   "source": [
    "+ 如果水被加热到80℃，计算比内能为400kJ/kg的水的焓值"
   ]
  }
 ],
 "metadata": {
  "kernelspec": {
   "display_name": "Rust",
   "language": "rust",
   "name": "rust"
  },
  "language_info": {
   "codemirror_mode": "rust",
   "file_extension": ".rs",
   "mimetype": "text/rust",
   "name": "Rust",
   "pygment_lexer": "rust",
   "version": ""
  }
 },
 "nbformat": 4,
 "nbformat_minor": 4
}
