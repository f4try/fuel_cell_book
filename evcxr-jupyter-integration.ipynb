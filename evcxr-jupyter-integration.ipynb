{
 "cells": [
  {
   "cell_type": "markdown",
   "metadata": {},
   "source": [
    "# Plotters Tutorial with Jupyter"
   ]
  },
  {
   "cell_type": "markdown",
   "metadata": {},
   "source": [
    "This is a interactive tutorial for [`Plotters`](https://github.com/38/plotters) drawing library. If you are looking at the static HTML version and want to try the interactive version. Please follow the steps:\n",
    "\n",
    "#### For Ubuntu/Debian users\n",
    "\n",
    "```bash\n",
    "# Install Jupyter notebook \n",
    "sudo apt install libzmq3-dev jupyter-notebook\n",
    "cargo install evcxr_jupyter\n",
    "evcxr_jupyter --install\n",
    "# Get the notebook\n",
    "git clone https://github.com/38/plotters-doc-data\n",
    "cd plotteres-doc-data\n",
    "jupyter notebook\n",
    "```\n",
    "\n",
    "#### For OSX users\n",
    "\n",
    "```bash\n",
    "# Install Jupyter notebook \n",
    "brew install zeromq pkg-config\n",
    "cargo install evcxr_jupyter\n",
    "evcxr_jupyter --install\n",
    "# Get the notebook\n",
    "git clone https://github.com/38/plotters-doc-data\n",
    "cd plotteres-doc-data\n",
    "jupyter notebook\n",
    "```\n",
    "\n",
    "You can also download the latest notebook from [https://raw.githubusercontent.com/38/plotters-doc-data/master/evcxr-jupyter-integration.ipynb](https://raw.githubusercontent.com/38/plotters-doc-data/master/evcxr-jupyter-integration.ipynb), thus you don't have to clone the entire data repo."
   ]
  },
  {
   "cell_type": "markdown",
   "metadata": {},
   "source": [
    "## Get Started"
   ]
  },
  {
   "cell_type": "markdown",
   "metadata": {},
   "source": [
    "In order to use `Plotters` in `jupyter-evcxr`, you need both Jupyter and evcxr installed.\n",
    "Check [https://github.com/google/evcxr](https://github.com/google/evcxr) for the instructions.\n",
    "\n",
    "To use Plotters with `jupyter-evcxr`, you need to import it using the following code:"
   ]
  },
  {
   "cell_type": "code",
   "execution_count": null,
   "metadata": {},
   "outputs": [],
   "source": [
    "// :dep plotters = { version = \"^0.3.0\", default_features = false, features = [\"evcxr\", \"all_series\"] }"
   ]
  },
  {
   "cell_type": "markdown",
   "metadata": {},
   "source": [
    "Because `evcxr` uses only SVG images and all types of series, so we don't need other types of backend. So we should put\n",
    "\n",
    "`default_features = false, features = [\"evcxr\", \"all_series\"]`\n",
    "\n",
    "Make the compilation faster. Since `evcxr` shares all the artifacts among cells, after the first time we have `plotters` compiled, it should be faster after."
   ]
  },
  {
   "cell_type": "markdown",
   "metadata": {},
   "source": [
    "### Plotters evcxr integration overview"
   ]
  },
  {
   "cell_type": "markdown",
   "metadata": {},
   "source": [
    "To use plotters, the most convenient way is importing everything defined in the `prelude` module.\n",
    "It will import `evcxr_figure` function for `evcxr` integration. \n",
    "\n",
    "*Note: Currently evcxr doesn't work with nightly rust, so please make sure you are using a stable rust*"
   ]
  },
  {
   "cell_type": "code",
   "execution_count": null,
   "metadata": {},
   "outputs": [],
   "source": [
    ":dep plotters = { version = \"^0.3.0\", default_features = false, features = [\"evcxr\", \"all_series\"] }\n",
    "extern crate plotters;\n",
    "// Import all the plotters prelude functions\n",
    "use plotters::prelude::*;\n",
    "// To create a figure that can be displayed in Jupyter notebook, use evcxr_figure function.\n",
    "// The first param is the resolution of the figure.\n",
    "// The second param is the closure that performes the drawing.\n",
    "evcxr_figure((300, 100), |root| {\n",
    "    // Do the drawings\n",
    "    root.fill(&BLUE)?;\n",
    "    // Tell plotters that everything is ok\n",
    "//     root.draw(&Text::new(\"Hello World from Plotters!\", (15, 15), (\"Arial\", 20).into_font()))?;\n",
    "    Ok(())\n",
    "})"
   ]
  },
  {
   "cell_type": "markdown",
   "metadata": {},
   "source": [
    "## Hello World"
   ]
  },
  {
   "cell_type": "code",
   "execution_count": null,
   "metadata": {},
   "outputs": [],
   "source": [
    ":dep plotters = { version = \"^0.3.0\", default_features = false, features = [\"evcxr\", \"all_series\"] }\n",
    "extern crate plotters;\n",
    "use plotters::prelude::*;\n",
    "\n",
    "evcxr_figure((320,50), |root| {\n",
    "    root.fill(&GREEN)?;\n",
    "    root.draw(&Text::new(\"Hello World from Plotters!\", (15, 15), (\"Arial\", 20).into_font()))?;\n",
    "    Ok(())\n",
    "})"
   ]
  },
  {
   "cell_type": "markdown",
   "metadata": {},
   "source": [
    "## Sub- Drawing Areas"
   ]
  },
  {
   "cell_type": "markdown",
   "metadata": {},
   "source": [
    "One of the very important features is, `Plotters` allows drawing multiple charts in a single figure. And this is done by having sub-drawing-areas. The root drawing area is able to be splitted into smaller drawing areas, and you can always do more fine-grained splits as well."
   ]
  },
  {
   "cell_type": "code",
   "execution_count": null,
   "metadata": {},
   "outputs": [],
   "source": [
    ":dep plotters = { version = \"^0.3.0\", default_features = false, features = [\"evcxr\", \"all_series\"] }\n",
    "extern crate plotters;\n",
    "use plotters::prelude::*;\n",
    "use plotters::coord::Shift;\n",
    "pub fn sierpinski_carpet(\n",
    "    depth: u32, \n",
    "    drawing_area: &DrawingArea<SVGBackend, Shift>) \n",
    "-> Result<(), Box<dyn std::error::Error>> {\n",
    "    if depth > 0 {\n",
    "        let sub_areas = drawing_area.split_evenly((3,3));\n",
    "        for (idx, sub_area) in (0..).zip(sub_areas.iter()) {\n",
    "            if idx == 4 {\n",
    "                sub_area.fill(&WHITE)?;\n",
    "            } else {\n",
    "                sierpinski_carpet(depth - 1, sub_area)?;\n",
    "            }\n",
    "        }\n",
    "    }\n",
    "    Ok(())\n",
    "}\n",
    "evcxr_figure((4800,4800), |root| {\n",
    "    root.fill(&BLACK)?;\n",
    "    sierpinski_carpet(5, &root)\n",
    "}).style(\"width: 200px\")  /* You can add CSS style to the result */\n"
   ]
  },
  {
   "cell_type": "markdown",
   "metadata": {},
   "source": [
    "## Chart Context"
   ]
  },
  {
   "cell_type": "markdown",
   "metadata": {},
   "source": [
    "`Plotters` is designed for drawing charts, plots, etc. This example demonstrate how to use `Plotters` chart specific APIs to draw a chart, including, labels, axis, meshes, etc. To draw a chart on the drawin area, you need to create a chart context and do some configuration."
   ]
  },
  {
   "cell_type": "code",
   "execution_count": null,
   "metadata": {},
   "outputs": [],
   "source": [
    ":dep plotters = { version = \"^0.3.0\", default_features = false, features = [\"evcxr\", \"all_series\"] }\n",
    "extern crate plotters;\n",
    "use plotters::prelude::*;\n",
    "evcxr_figure((640, 240), |root| {\n",
    "    // The following code will create a chart context\n",
    "    let mut chart = ChartBuilder::on(&root)\n",
    "        .caption(\"Hello Plotters Chart Context!\", (\"Arial\", 20).into_font())\n",
    "        .build_cartesian_2d(0f32..1f32, 0f32..1f32)?;\n",
    "    // Then we can draw a series on it!\n",
    "    chart.draw_series((1..10).map(|x|{\n",
    "        let x = x as f32/10.0;\n",
    "        Circle::new((x,x), 5, &RED)\n",
    "    }))?;\n",
    "    Ok(())\n",
    "}).style(\"width:60%\")"
   ]
  },
  {
   "cell_type": "markdown",
   "metadata": {},
   "source": [
    "## Adding Common Chart Components "
   ]
  },
  {
   "cell_type": "markdown",
   "metadata": {},
   "source": [
    "We can also make `Plotters` draws common components for us, such as, meshes, axis, legend. In this section, we demonstrate how to do that.\n",
    "\n",
    "The following code shows how we add mesh to the chart."
   ]
  },
  {
   "cell_type": "code",
   "execution_count": null,
   "metadata": {},
   "outputs": [],
   "source": [
    ":dep plotters = { version = \"^0.3.0\", default_features = false, features = [\"evcxr\", \"all_series\"] }\n",
    "extern crate plotters;\n",
    "use plotters::prelude::*;\n",
    "evcxr_figure((640, 480), |root| {\n",
    "    // The following code will create a chart context\n",
    "    let mut chart = ChartBuilder::on(&root)\n",
    "        .caption(\"Chart Context with Mesh\", (\"Arial\", 20).into_font())\n",
    "        .build_cartesian_2d(0f32..1f32, 0f32..1f32)?;\n",
    "    chart.configure_mesh().draw()?;\n",
    "    Ok(())\n",
    "}).style(\"width: 60%\")"
   ]
  },
  {
   "cell_type": "markdown",
   "metadata": {},
   "source": [
    "Then we can add axis to the chart."
   ]
  },
  {
   "cell_type": "code",
   "execution_count": null,
   "metadata": {},
   "outputs": [],
   "source": [
    ":dep plotters = { version = \"^0.3.0\", default_features = false, features = [\"evcxr\", \"all_series\"] }\n",
    "extern crate plotters;\n",
    "use plotters::prelude::*;\n",
    "evcxr_figure((640, 480), |root| {\n",
    "    // The following code will create a chart context\n",
    "    let mut chart = ChartBuilder::on(&root)\n",
    "        .caption(\"Chart Context with Mesh and Axis\", (\"Arial\", 20).into_font())\n",
    "        .x_label_area_size(40)\n",
    "        .y_label_area_size(40)\n",
    "        .build_cartesian_2d(0f32..1f32, 0f32..1f32)?;\n",
    "    \n",
    "    chart.configure_mesh()\n",
    "        .draw()?;\n",
    "    \n",
    "    Ok(())\n",
    "}).style(\"width: 60%\")"
   ]
  },
  {
   "cell_type": "markdown",
   "metadata": {},
   "source": [
    "In addition to that, we can put label text to the axis."
   ]
  },
  {
   "cell_type": "code",
   "execution_count": null,
   "metadata": {},
   "outputs": [],
   "source": [
    ":dep plotters = { version = \"^0.3.0\", default_features = false, features = [\"evcxr\", \"all_series\"] }\n",
    "extern crate plotters;\n",
    "use plotters::prelude::*;\n",
    "evcxr_figure((640, 480), |root| {\n",
    "    // The following code will create a chart context\n",
    "    let mut chart = ChartBuilder::on(&root)\n",
    "        .caption(\"Chart with Axis Label\", (\"Arial\", 20).into_font())\n",
    "        .x_label_area_size(40)\n",
    "        .y_label_area_size(40)\n",
    "        .build_cartesian_2d(0f32..1f32, 0f32..1f32)?;\n",
    "    \n",
    "    chart.configure_mesh()\n",
    "        .x_desc(\"Here's the label for X\")\n",
    "        .y_desc(\"Here's the label for Y\")\n",
    "        .draw()?;\n",
    "    \n",
    "    Ok(())\n",
    "}).style(\"width: 60%\")"
   ]
  },
  {
   "cell_type": "markdown",
   "metadata": {},
   "source": [
    "Then let's disable mesh lines for the X axis"
   ]
  },
  {
   "cell_type": "code",
   "execution_count": null,
   "metadata": {},
   "outputs": [],
   "source": [
    ":dep plotters = { version = \"^0.3.0\", default_features = false, features = [\"evcxr\", \"all_series\"] }\n",
    "extern crate plotters;\n",
    "use plotters::prelude::*;\n",
    "evcxr_figure((640, 480), |root| {\n",
    "    // The following code will create a chart context\n",
    "    let mut chart = ChartBuilder::on(&root)\n",
    "        .caption(\"Chart Context with Mesh and Axis\", (\"Arial\", 20).into_font())\n",
    "        .x_label_area_size(40)\n",
    "        .y_label_area_size(40)\n",
    "        .build_cartesian_2d(0f32..1f32, 0f32..1f32)?;\n",
    "    \n",
    "    chart.configure_mesh()\n",
    "        .y_labels(10)\n",
    "        .light_line_style(&TRANSPARENT)\n",
    "        .disable_x_mesh()\n",
    "        .draw()?;\n",
    "    \n",
    "    Ok(())\n",
    "}).style(\"width: 60%\")"
   ]
  },
  {
   "cell_type": "markdown",
   "metadata": {},
   "source": [
    "To create multiple charts in a single figure, you can just split the drawing area and create multiple chart context."
   ]
  },
  {
   "cell_type": "code",
   "execution_count": null,
   "metadata": {},
   "outputs": [],
   "source": [
    ":dep plotters = { version = \"^0.3.0\", default_features = false, features = [\"evcxr\", \"all_series\"] }\n",
    "extern crate plotters;\n",
    "use plotters::prelude::*;\n",
    "evcxr_figure((640, 480), |root| {\n",
    "    let sub_areas = root.split_evenly((2,2));\n",
    "    \n",
    "    for (idx, area) in (1..).zip(sub_areas.iter()) {\n",
    "        // The following code will create a chart context\n",
    "        let mut chart = ChartBuilder::on(&area)\n",
    "            .caption(format!(\"Subchart #{}\", idx), (\"Arial\", 15).into_font())\n",
    "            .x_label_area_size(40)\n",
    "            .y_label_area_size(40)\n",
    "            .build_cartesian_2d(0f32..1f32, 0f32..1f32)?;\n",
    "\n",
    "        chart.configure_mesh()\n",
    "            .y_labels(10)\n",
    "            .light_line_style(&TRANSPARENT)\n",
    "            .disable_x_mesh()\n",
    "            .draw()?;\n",
    "    }\n",
    "\n",
    "    Ok(())\n",
    "}).style(\"width: 60%\")"
   ]
  },
  {
   "cell_type": "markdown",
   "metadata": {},
   "source": [
    "## Series"
   ]
  },
  {
   "cell_type": "markdown",
   "metadata": {},
   "source": [
    "Unlike most of the plotting libraries, `Plotters` doesn't actually define any types of chart. All the chart is abstracted to a concept of series. By doing so, you can put a histgoram series and a line plot series into the same chart context.\n",
    "The series is actually defined as an iterator of elements, just this.\n",
    "\n",
    "This gives `Plotters` a huge flexibility on drawing charts. You can implement you own types of series and uses the coordinate translation and chart elements. \n",
    "\n",
    "There are few types of predefined series, just for convenience:\n",
    "- Line Series\n",
    "- Histogram\n",
    "- Point Series"
   ]
  },
  {
   "cell_type": "markdown",
   "metadata": {},
   "source": [
    "### Scatter Plot"
   ]
  },
  {
   "cell_type": "markdown",
   "metadata": {},
   "source": [
    "First of all, let's generate some random numbers."
   ]
  },
  {
   "cell_type": "code",
   "execution_count": null,
   "metadata": {},
   "outputs": [],
   "source": [
    ":dep rand = { version = \"0.6.5\" }\n",
    "extern crate rand;\n",
    "\n",
    "use rand::distributions::Normal;\n",
    "use rand::distributions::Distribution;\n",
    "use rand::thread_rng;\n",
    "let sd = 0.13;\n",
    "let random_points:Vec<(f64,f64)> = {\n",
    "    let mut norm_dist = Normal::new(0.5, sd);\n",
    "    let (mut x_rand, mut y_rand) = (thread_rng(), thread_rng());\n",
    "    let x_iter = norm_dist.sample_iter(&mut x_rand);\n",
    "    let y_iter = norm_dist.sample_iter(&mut y_rand);\n",
    "    x_iter.zip(y_iter).take(1000).collect()\n",
    "};\n",
    "random_points.len()"
   ]
  },
  {
   "cell_type": "markdown",
   "metadata": {},
   "source": [
    "It's trivial to draw a scatter plot with `Plotters`. The only need is, provide a iterator of the elements as series.\n",
    "The following example shows how to make a 2D normal distribution figure. The red rectangle is the two sigma area and the red cross is the mean."
   ]
  },
  {
   "cell_type": "code",
   "execution_count": null,
   "metadata": {},
   "outputs": [],
   "source": [
    ":dep plotters = { version = \"^0.3.0\", default_features = false, features = [\"evcxr\", \"all_series\"] }\n",
    "\n",
    "extern crate plotters;\n",
    "use plotters::prelude::*;\n",
    "\n",
    "evcxr_figure((640, 480), |root| {\n",
    "    // The following code will create a chart context\n",
    "    let mut chart = ChartBuilder::on(&root)\n",
    "        .caption(\"Normal Distribution\", (\"Arial\", 20).into_font())\n",
    "        .x_label_area_size(40)\n",
    "        .y_label_area_size(40)\n",
    "        .build_ranged(0f64..1f64, 0f64..1f64)?;\n",
    "    \n",
    "    chart.configure_mesh()\n",
    "        .disable_x_mesh()\n",
    "        .disable_y_mesh()\n",
    "        .draw()?;\n",
    "    \n",
    "    chart.draw_series(random_points.iter().map(|(x,y)| Circle::new((*x,*y), 3, GREEN.filled())));\n",
    "    \n",
    "    // You can alawys freely draw on the drawing backend\n",
    "    let area = chart.plotting_area();\n",
    "    let two_sigma = sd * 2.0;\n",
    "    area.draw(&Rectangle::new(\n",
    "        [(0.5 - two_sigma, 0.5 - two_sigma), (0.5 + two_sigma, 0.5 + two_sigma)], \n",
    "        RED.mix(0.3).filled())\n",
    "    )?;\n",
    "    area.draw(&Cross::new((0.5, 0.5), 5, &RED))?;\n",
    "    \n",
    "    Ok(())\n",
    "}).style(\"width:60%\")"
   ]
  },
  {
   "cell_type": "markdown",
   "metadata": {},
   "source": [
    "### Histogram"
   ]
  },
  {
   "cell_type": "markdown",
   "metadata": {},
   "source": [
    "We can also have histograms. For histograms, we can use the predefined histogram series struct to build the histogram easily. The following code demonstrate how to create both histogram for X and Y value of `random_points`."
   ]
  },
  {
   "cell_type": "code",
   "execution_count": null,
   "metadata": {},
   "outputs": [],
   "source": [
    ":dep plotters = { version = \"^0.3.0\", default_features = false, features = [\"evcxr\", \"all_series\", \"all_elements\"] }\n",
    "\n",
    "extern crate plotters;\n",
    "use plotters::prelude::*;\n",
    "\n",
    "evcxr_figure((640, 480), |root| {\n",
    "    let areas = root.split_evenly((2,1));\n",
    "    let mut charts = vec![];\n",
    "    \n",
    "    // The following code will create a chart context\n",
    "   for (area, name) in areas.iter().zip([\"X\", \"Y\"].into_iter()) {\n",
    "        let mut chart = ChartBuilder::on(&area)\n",
    "            .caption(format!(\"Histogram for {}\", name), (\"Arial\", 20).into_font())\n",
    "            .x_label_area_size(40)\n",
    "            .y_label_area_size(40)\n",
    "            .build_cartesian_2d(0u32..100u32, 0f64..0.5f64)?;\n",
    "        chart.configure_mesh()\n",
    "            .disable_x_mesh()\n",
    "            .disable_y_mesh()\n",
    "            .y_labels(5)\n",
    "            .x_label_formatter(&|x| format!(\"{:.1}\", *x as f64 / 100.0))\n",
    "            .y_label_formatter(&|y| format!(\"{}%\", (*y * 100.0) as u32))\n",
    "            .draw()?;\n",
    "        charts.push(chart);\n",
    "    }\n",
    "    \n",
    "    let hist_x = Histogram::vertical(&charts[0])\n",
    "        .style(RED.filled())\n",
    "        .margin(0)\n",
    "        .data(random_points.iter().map(|(x,_)| ((x*100.0) as u32, 0.01)));\n",
    "    \n",
    "    let hist_y = Histogram::vertical(&charts[0])\n",
    "        .style(GREEN.filled())\n",
    "        .margin(0)\n",
    "        .data(random_points.iter().map(|(_,y)| ((y*100.0) as u32, 0.01)));\n",
    "    \n",
    "    charts[0].draw_series(hist_x);\n",
    "    charts[1].draw_series(hist_y);\n",
    "    \n",
    "    Ok(())\n",
    "}).style(\"width:60%\")"
   ]
  },
  {
   "cell_type": "markdown",
   "metadata": {},
   "source": [
    "### Combination of Histogram and Scatter"
   ]
  },
  {
   "cell_type": "code",
   "execution_count": null,
   "metadata": {},
   "outputs": [],
   "source": [
    ":dep plotters = { version = \"^0.3.0\", default_features = false, features = [\"evcxr\", \"all_series\", \"all_elements\"] }\n",
    "\n",
    "use plotters::prelude::*;\n",
    "\n",
    "evcxr_figure((640, 480), |root| {\n",
    "    let root = root.titled(\"Scatter with Histogram Example\", (\"Arial\", 20).into_font())?;\n",
    "    \n",
    "    let areas = root.split_by_breakpoints([560], [80]);\n",
    "\n",
    "    let mut x_hist_ctx = ChartBuilder::on(&areas[0])\n",
    "        .y_label_area_size(40)\n",
    "        .build_cartesian_2d(0u32..100u32, 0f64..0.5f64)?;\n",
    "    let mut y_hist_ctx = ChartBuilder::on(&areas[3])\n",
    "        .x_label_area_size(40)\n",
    "        .build_cartesian_2d(0f64..0.5f64, 0..100u32)?;\n",
    "    let mut scatter_ctx = ChartBuilder::on(&areas[2])\n",
    "        .x_label_area_size(40)\n",
    "        .y_label_area_size(40)\n",
    "        .build_cartesian_2d(0f64..1f64, 0f64..1f64)?;\n",
    "    scatter_ctx.configure_mesh()\n",
    "        .disable_x_mesh()\n",
    "        .disable_y_mesh()\n",
    "        .draw()?;\n",
    "    scatter_ctx.draw_series(random_points.iter().map(|(x,y)| Circle::new((*x,*y), 3, GREEN.filled())))?;\n",
    "    let x_hist = Histogram::vertical(&x_hist_ctx)\n",
    "        .style(RED.filled())\n",
    "        .margin(0)\n",
    "        .data(random_points.iter().map(|(x,_)| ((x*100.0) as u32, 0.01)));\n",
    "    let y_hist = Histogram::horizontal(&y_hist_ctx)\n",
    "        .style(GREEN.filled())\n",
    "        .margin(0)\n",
    "        .data(random_points.iter().map(|(_,y)| ((y*100.0) as u32, 0.01)));\n",
    "    x_hist_ctx.draw_series(x_hist)?;\n",
    "    y_hist_ctx.draw_series(y_hist)?;\n",
    "    \n",
    "    Ok(())\n",
    "}).style(\"width:60%\")"
   ]
  },
  {
   "cell_type": "markdown",
   "metadata": {},
   "source": [
    "## 3D Plots\n",
    "\n",
    "Plotters also support 3D plotting since 0.3. To plotting a 3D chart, it's quite simple: when constructing the `ChartContext`, instead of `build_cartesian_2d`, use `build_cartesian_3d` instead. Then you should get a plotting environment that supports accepts 3-dimensional coordinates."
   ]
  },
  {
   "cell_type": "code",
   "execution_count": null,
   "metadata": {},
   "outputs": [],
   "source": [
    ":dep plotters = { version = \"^0.3.0\", default_features = false, features = [\"evcxr\", \"all_series\", \"all_elements\"] }\n",
    "use plotters::prelude::*;\n",
    "\n",
    "evcxr_figure((640, 480), |root| {\n",
    "    let root = root.titled(\"3D Plotting\", (\"Arial\", 20).into_font())?;\n",
    "    \n",
    "    let mut chart = ChartBuilder::on(&root)\n",
    "        .build_cartesian_3d(-10.0..10.0, -10.0..10.0, -10.0..10.0)?;\n",
    "    // Draw a red circle parallel to XOZ panel\n",
    "    chart.draw_series(LineSeries::new(\n",
    "        (-314..314).map(|a| a as f64 / 100.0).map(|a| (8.0 * a.cos(), 0.0, 8.0 *a.sin())),\n",
    "        &RED,\n",
    "    ))?;\n",
    "    // Draw a green circle parallel to YOZ panel\n",
    "    chart.draw_series(LineSeries::new(\n",
    "        (-314..314).map(|a| a as f64 / 100.0).map(|a| (0.0, 8.0 * a.cos(), 8.0 *a.sin())),\n",
    "        &GREEN,\n",
    "    ))?;\n",
    "    \n",
    "    Ok(())\n",
    "})"
   ]
  },
  {
   "cell_type": "markdown",
   "metadata": {},
   "source": [
    "### Draw Plot Components \n",
    "\n",
    "Just like the 2D plots, we are able to draw the axis and axis panel easily. Unlike the 2D plots, 3D plots use the function `configure_axes` to configure the chart components."
   ]
  },
  {
   "cell_type": "code",
   "execution_count": null,
   "metadata": {},
   "outputs": [],
   "source": [
    ":dep plotters = { version = \"^0.3.0\", default_features = false, features = [\"evcxr\", \"all_series\", \"all_elements\"] }\n",
    "use plotters::prelude::*;\n",
    "\n",
    "evcxr_figure((640, 480), |root| {\n",
    "    let root = root.titled(\"3D Plotting\", (\"Arial\", 20).into_font())?;\n",
    "    \n",
    "    let mut chart = ChartBuilder::on(&root)\n",
    "        .build_cartesian_3d(-10.0..10.0, -10.0..10.0, -10.0..10.0)?;\n",
    "    \n",
    "    chart.configure_axes().draw()?;\n",
    "    \n",
    "    // Draw a red circle parallel to XOZ panel\n",
    "    chart.draw_series(LineSeries::new(\n",
    "        (-314..314).map(|a| a as f64 / 100.0).map(|a| (8.0 * a.cos(), 0.0, 8.0 *a.sin())),\n",
    "        &RED,\n",
    "    ))?;\n",
    "    // Draw a green circle parallel to YOZ panel\n",
    "    chart.draw_series(LineSeries::new(\n",
    "        (-314..314).map(|a| a as f64 / 100.0).map(|a| (0.0, 8.0 * a.cos(), 8.0 *a.sin())),\n",
    "        &GREEN,\n",
    "    ))?;\n",
    "    \n",
    "    Ok(())\n",
    "})"
   ]
  },
  {
   "cell_type": "markdown",
   "metadata": {},
   "source": [
    "### Adjusting the 3D View\n",
    "\n",
    "Unlike the 2D plot, 3D plot allows you to change the point of view. For example, rotate the plot or scale the plot, etc. This is done by the projection matrix, Plotters allows you override the default projection matrix, so that you can customize your view point of the 3D Plot. The following example shows how to look at the plot from top to bottom in the plot we have previously created."
   ]
  },
  {
   "cell_type": "code",
   "execution_count": null,
   "metadata": {},
   "outputs": [],
   "source": [
    ":dep plotters = { version = \"^0.3.0\", default_features = false, features = [\"evcxr\", \"all_series\", \"all_elements\"] }\n",
    "use plotters::prelude::*;\n",
    "\n",
    "evcxr_figure((640, 480), |root| {\n",
    "    let root = root.titled(\"3D Plotting\", (\"Arial\", 20).into_font())?;\n",
    "    \n",
    "    let mut chart = ChartBuilder::on(&root)\n",
    "        .build_cartesian_3d(-10.0..10.0, -10.0..10.0, -10.0..10.0)?;\n",
    "    chart.with_projection(|mut p| {\n",
    "        p.pitch = 1.5707; // 90 degreen pitch, thus we are looking the plot from top\n",
    "        p.yaw = 0.0;      // Make plot's X axis parallel to screen's X axis    \n",
    "        p.into_matrix() // build the projection matrix\n",
    "    });\n",
    "    \n",
    "    chart.configure_axes().draw()?;\n",
    "    \n",
    "    // Draw a red circle parallel to XOZ panel\n",
    "    chart.draw_series(LineSeries::new(\n",
    "        (-314..314).map(|a| a as f64 / 100.0).map(|a| (8.0 * a.cos(), 0.0, 8.0 *a.sin())),\n",
    "        &RED,\n",
    "    ))?;\n",
    "    // Draw a green circle parallel to YOZ panel\n",
    "    chart.draw_series(LineSeries::new(\n",
    "        (-314..314).map(|a| a as f64 / 100.0).map(|a| (0.0, 8.0 * a.cos(), 8.0 *a.sin())),\n",
    "        &GREEN,\n",
    "    ))?;\n",
    "    \n",
    "    Ok(())\n",
    "})"
   ]
  },
  {
   "cell_type": "code",
   "execution_count": null,
   "metadata": {},
   "outputs": [],
   "source": [
    ":dep plotters = { version = \"^0.3.0\", default_features = false, features = [\"evcxr\", \"all_series\", \"all_elements\"] }\n",
    "use plotters::prelude::*;\n",
    "\n",
    "evcxr_figure((640, 480), |root| {\n",
    "    let root = root.titled(\"3D Plotting\", (\"Arial\", 20).into_font())?;\n",
    "    \n",
    "    let mut chart = ChartBuilder::on(&root)\n",
    "        .build_cartesian_3d(-10.0..10.0, -10.0..10.0, -10.0..10.0)?;\n",
    "    chart.with_projection(|mut p| {\n",
    "        p.pitch = 0.7; \n",
    "        p.yaw = 0.7;\n",
    "        p.scale = 0.5;\n",
    "        p.into_matrix() // build the projection matrix\n",
    "    });\n",
    "    \n",
    "    chart.configure_axes().draw()?;\n",
    "    \n",
    "    // Draw a red circle parallel to XOZ panel\n",
    "    chart.draw_series(LineSeries::new(\n",
    "        (-314..314).map(|a| a as f64 / 100.0).map(|a| (8.0 * a.cos(), 0.0, 8.0 *a.sin())),\n",
    "        &RED,\n",
    "    ))?;\n",
    "    // Draw a green circle parallel to YOZ panel\n",
    "    chart.draw_series(LineSeries::new(\n",
    "        (-314..314).map(|a| a as f64 / 100.0).map(|a| (0.0, 8.0 * a.cos(), 8.0 *a.sin())),\n",
    "        &GREEN,\n",
    "    ))?;\n",
    "    \n",
    "    Ok(())\n",
    "})"
   ]
  },
  {
   "cell_type": "markdown",
   "metadata": {},
   "source": [
    "### A 2D Guassian Distribution Example"
   ]
  },
  {
   "cell_type": "code",
   "execution_count": null,
   "metadata": {},
   "outputs": [],
   "source": [
    ":dep plotters = { version = \"^0.3.0\", default_features = false, features = [\"evcxr\", \"all_series\", \"all_elements\"] }\n",
    "use plotters::prelude::*;\n",
    "fn pdf(x: f64, y: f64) -> f64 {\n",
    "    const SDX: f64 = 0.1;\n",
    "    const SDY: f64 = 0.1;\n",
    "    const A: f64 = 5.0;\n",
    "    let x = x as f64 / 10.0;\n",
    "    let y = y as f64 / 10.0;\n",
    "    A * (- x * x / 2.0 / SDX / SDX - y * y / 2.0 / SDY / SDY).exp()\n",
    "}\n",
    "evcxr_figure((640 * 2, 480), |root| {\n",
    "\n",
    "    let root = root.titled(\"2D Guassian PDF\", (\"Arial\", 20).into_font())?;\n",
    "    \n",
    "    let (left, right) = root.split_horizontally(640);\n",
    "\n",
    "    for (pitch, yaw, area) in vec![(0.6, 0.3, left), (1.5707, 0.0, right)] {\n",
    "        let mut chart = ChartBuilder::on(&area)\n",
    "            .build_cartesian_3d(-3.0..3.0, 0.0..6.0, -3.0..3.0)?;\n",
    "        chart.with_projection(|mut p| {\n",
    "            p.pitch = pitch; \n",
    "            p.yaw = yaw;\n",
    "            p.scale = 0.7;\n",
    "            p.into_matrix() // build the projection matrix\n",
    "        });\n",
    "\n",
    "        chart.configure_axes().draw()?;\n",
    "\n",
    "        let series = (-15..15).map(|x| std::iter::repeat(x).zip(-15..15)).flatten().map(|(x, z)|{\n",
    "            let x = x as f64 / 5.0;\n",
    "            let z = z as f64 / 5.0;\n",
    "           Polygon::new(vec![\n",
    "                   (x, pdf(x,z), z),\n",
    "                   (x + 0.2, pdf(x + 0.2,z), z),\n",
    "                   (x + 0.2, pdf(x + 0.2,z + 0.2), z + 0.2),\n",
    "                   (x, pdf(x,z + 0.2), z + 0.2),\n",
    "               ],\n",
    "               &HSLColor(240.0 / 360.0 - 240.0 / 360.0 * pdf(x,z) / 5.0,1.0,0.7))\n",
    "        });\n",
    "\n",
    "        chart.draw_series(series);\n",
    "    }\n",
    "    \n",
    "    Ok(())\n",
    "})"
   ]
  }
 ],
 "metadata": {
  "kernelspec": {
   "display_name": "Rust",
   "language": "rust",
   "name": "rust"
  },
  "language_info": {
   "codemirror_mode": "rust",
   "file_extension": ".rs",
   "mimetype": "text/rust",
   "name": "Rust",
   "pygment_lexer": "rust",
   "version": ""
  }
 },
 "nbformat": 4,
 "nbformat_minor": 4
}
